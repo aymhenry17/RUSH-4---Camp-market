{
 "cells": [
  {
   "cell_type": "code",
   "execution_count": null,
   "id": "da64d9d5",
   "metadata": {},
   "outputs": [],
   "source": [
    "import pandas as pd\n",
    "import numpy as np\n",
    "from datetime import datetime"
   ]
  },
  {
   "cell_type": "code",
   "execution_count": null,
   "id": "a9e01c2f",
   "metadata": {},
   "outputs": [],
   "source": [
    "df = pd.read_csv('../Ressources/Data/Camp_Market.csv', sep=',')"
   ]
  },
  {
   "cell_type": "code",
   "execution_count": null,
   "id": "65bcf6b5",
   "metadata": {},
   "outputs": [],
   "source": [
    "print(pd.get_option(\"display.max_rows\"))\n",
    "print(pd.get_option(\"display.max_columns\"))"
   ]
  },
  {
   "cell_type": "code",
   "execution_count": null,
   "id": "52b55c0f",
   "metadata": {},
   "outputs": [],
   "source": [
    "df['Dt_Customer'] = pd.to_datetime(df['Dt_Customer'], errors='coerce').dt.strftime('%d/%m/%Y')"
   ]
  },
  {
   "cell_type": "code",
   "execution_count": null,
   "id": "ca3738ed",
   "metadata": {},
   "outputs": [],
   "source": [
    "cols_to_check = [\n",
    "    'Year_Birth', 'Education', 'Marital_Status', 'Income', 'Kidhome', 'Teenhome',\n",
    "    'Dt_Customer', 'Recency', 'MntWines', 'MntFruits', 'MntMeatProducts', 'MntFishProducts',\n",
    "    'MntSweetProducts', 'MntGoldProds', 'NumDealsPurchases', 'NumWebPurchases',\n",
    "    'NumCatalogPurchases', 'NumStorePurchases', 'NumWebVisitsMonth'\n",
    "]\n",
    "\n",
    "duplicate_mask = df.duplicated(subset=cols_to_check, keep='first')\n",
    "\n",
    "df = df.drop_duplicates(subset=cols_to_check, keep='first').reset_index(drop=True)\n",
    "df.to_csv(\"../Ressources/Data/Camp_Market_Cleaned.csv\", index=False)"
   ]
  },
  {
   "cell_type": "code",
   "execution_count": null,
   "id": "96fc512a",
   "metadata": {},
   "outputs": [],
   "source": [
    "df['Marital_Status'] = df['Marital_Status'].replace({\n",
    "    'Alone': 'Single',\n",
    "    'Absurd': 'Single',\n",
    "    'YOLO': 'Single',\n",
    "    'Divorced': 'Single',\n",
    "    'Widow': 'Single',\n",
    "    'Married': 'Couple',\n",
    "    'Together': 'Couple'\n",
    "})\n",
    "\n",
    "df['Education'] = df['Education'].replace({\n",
    "    'Basic': 'Undergrad',\n",
    "    '2n Cycle': 'Undergrad',\n",
    "    'Graduation': 'Graduate',\n",
    "    'Master': 'Postgrad',\n",
    "    'PhD': 'Postgrad'\n",
    "})\n",
    "\n",
    "df.rename(columns={'Dt_Customer': 'Customer_For'}, inplace=True)\n",
    "df.rename(columns={'Recency': 'Last_Purchase'}, inplace=True)\n",
    "\n",
    "df['Childrens'] = df['Kidhome'] + df['Teenhome']\n",
    "df['Spent'] = df[['MntWines', 'MntFruits', 'MntMeatProducts', 'MntFishProducts', 'MntSweetProducts', 'MntGoldProds']].sum(axis=1)\n",
    "df['Family_Size'] = df['Kidhome'] + df['Teenhome'] + df['Marital_Status'].map({'Single': 1, 'Couple': 2})\n",
    "df['Age'] = datetime.now().year - df['Year_Birth']\n",
    "\n",
    "df = df.drop(columns=['Kidhome', 'Teenhome'])  \n"
   ]
  },
  {
   "cell_type": "code",
   "execution_count": null,
   "id": "f40f0700",
   "metadata": {},
   "outputs": [],
   "source": [
    "missing_idx = df['Income'].isna()  \n",
    "\n",
    "def impute_income(row, df):\n",
    "    if pd.notna(row['Income']):\n",
    "        return row['Income'] \n",
    "    \n",
    "    mask = (\n",
    "        (df['Year_Birth'] == row['Year_Birth']) &\n",
    "        (df['Education'] == row['Education']) &\n",
    "        (df['Marital_Status'] == row['Marital_Status']) &\n",
    "        (df['Income'].notna())\n",
    "    )\n",
    "    \n",
    "    group_values = df.loc[mask, 'Income']\n",
    "    \n",
    "    if len(group_values) > 0:\n",
    "        return round(group_values.mean()) \n",
    "    else:\n",
    "        return np.nan\n",
    "\n",
    "df['Income'] = df.apply(lambda row: impute_income(row, df), axis=1).astype('Int64')\n"
   ]
  },
  {
   "cell_type": "code",
   "execution_count": null,
   "id": "bf52492f",
   "metadata": {},
   "outputs": [],
   "source": [
    "display(df[missing_idx & df['Income'].notna()])"
   ]
  },
  {
   "cell_type": "code",
   "execution_count": null,
   "id": "47847141",
   "metadata": {},
   "outputs": [],
   "source": [
    "display(df)"
   ]
  },
  {
   "cell_type": "code",
   "execution_count": null,
   "id": "a46782f3",
   "metadata": {},
   "outputs": [],
   "source": [
    "df.to_csv(\"../Ressources/Data/Camp_Market_Cleaned.csv\", index=False)"
   ]
  },
  {
   "cell_type": "markdown",
   "id": "d0962975",
   "metadata": {},
   "source": []
  }
 ],
 "metadata": {
  "kernelspec": {
   "display_name": "Rush4",
   "language": "python",
   "name": "python3"
  },
  "language_info": {
   "codemirror_mode": {
    "name": "ipython",
    "version": 3
   },
   "file_extension": ".py",
   "mimetype": "text/x-python",
   "name": "python",
   "nbconvert_exporter": "python",
   "pygments_lexer": "ipython3",
   "version": "3.13.9"
  }
 },
 "nbformat": 4,
 "nbformat_minor": 5
}
