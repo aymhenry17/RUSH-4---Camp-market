{
 "cells": [
  {
   "cell_type": "code",
   "execution_count": 23,
   "id": "da64d9d5",
   "metadata": {},
   "outputs": [],
   "source": [
    "import pandas as pd\n"
   ]
  },
  {
   "cell_type": "code",
   "execution_count": 24,
   "id": "a9e01c2f",
   "metadata": {},
   "outputs": [],
   "source": [
    "df = pd.read_csv('Ressources/Data/Camp_Market.csv', sep=',')"
   ]
  },
  {
   "cell_type": "code",
   "execution_count": 25,
   "id": "65bcf6b5",
   "metadata": {},
   "outputs": [
    {
     "name": "stdout",
     "output_type": "stream",
     "text": [
      "60\n",
      "20\n"
     ]
    }
   ],
   "source": [
    "print(pd.get_option(\"display.max_rows\"))\n",
    "print(pd.get_option(\"display.max_columns\"))"
   ]
  },
  {
   "cell_type": "code",
   "execution_count": 26,
   "id": "ca3738ed",
   "metadata": {},
   "outputs": [],
   "source": [
    "cols_to_check = [\n",
    "    'Year_Birth', 'Education', 'Marital_Status', 'Income', 'Kidhome', 'Teenhome',\n",
    "    'Dt_Customer', 'Recency', 'MntWines', 'MntFruits', 'MntMeatProducts', 'MntFishProducts',\n",
    "    'MntSweetProducts', 'MntGoldProds', 'NumDealsPurchases', 'NumWebPurchases',\n",
    "    'NumCatalogPurchases', 'NumStorePurchases', 'NumWebVisitsMonth'\n",
    "]\n",
    "\n",
    "duplicate_mask = df.duplicated(subset=cols_to_check, keep='first')\n",
    "\n",
    "df = df.drop_duplicates(subset=cols_to_check, keep='first').reset_index(drop=True)\n",
    "df.to_csv(\"Ressources/Data/Camp_Market_Cleaned.csv\", index=False)"
   ]
  },
  {
   "cell_type": "code",
   "execution_count": 27,
   "id": "96fc512a",
   "metadata": {},
   "outputs": [],
   "source": [
    "# Nettoyage de la colonne Marital_Status\n",
    "df['Marital_Status'] = df['Marital_Status'].replace({\n",
    "    'Absurd': 'Others',\n",
    "    'YOLO': 'Others',\n",
    "    'Alone': 'Single'\n",
    "})"
   ]
  },
  {
   "cell_type": "code",
   "execution_count": 28,
   "id": "a46782f3",
   "metadata": {},
   "outputs": [],
   "source": [
    "df.to_csv(\"Ressources/Data/Camp_Market_Cleaned.csv\", index=False)"
   ]
  }
 ],
 "metadata": {
  "kernelspec": {
   "display_name": "Rush4",
   "language": "python",
   "name": "python3"
  },
  "language_info": {
   "codemirror_mode": {
    "name": "ipython",
    "version": 3
   },
   "file_extension": ".py",
   "mimetype": "text/x-python",
   "name": "python",
   "nbconvert_exporter": "python",
   "pygments_lexer": "ipython3",
   "version": "3.13.7"
  }
 },
 "nbformat": 4,
 "nbformat_minor": 5
}
